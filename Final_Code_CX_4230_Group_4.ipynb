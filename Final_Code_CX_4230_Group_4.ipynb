{
  "nbformat": 4,
  "nbformat_minor": 0,
  "metadata": {
    "colab": {
      "name": "Final Code - CX 4230 Group 4",
      "provenance": [],
      "collapsed_sections": []
    },
    "kernelspec": {
      "name": "python3",
      "display_name": "Python 3"
    },
    "language_info": {
      "name": "python"
    }
  },
  "cells": [
    {
      "cell_type": "code",
      "source": [
        "import numpy as np\n",
        "\"\"\"\n",
        "The carrying capacity of the Iguana Population\n",
        "\"\"\"\n",
        "\n",
        "capacity = 1611013\n",
        "\n",
        "\"\"\"\n",
        "The growth rate of the Iguana population per year\n",
        "\"\"\"\n",
        "\n",
        "yearlyGrowthRate = 1.552\n",
        "\n",
        "\"\"\"\n",
        "The growth rate of the Iguana population per month\n",
        "\"\"\"\n",
        "\n",
        "growthRate = 0.0812\n",
        "\n",
        "\"\"\"\n",
        "The control rate of iguanas per step\n",
        "\"\"\"\n",
        "\n",
        "controlRate = 0.4\n",
        "\n",
        "\"\"\"\n",
        "A empty list that contain all iterations of our model\n",
        "\"\"\"\n",
        "\n",
        "history = []\n",
        "\n",
        "\"\"\"\n",
        "An array creating Flordia in Cayman-Island sized chunks to represent a cellular automaton\n",
        "\"\"\"\n",
        "\n",
        "rows = 36\n",
        "cols = 12\n",
        "florida = np.zeros((rows,cols))\n",
        "\n",
        "\"\"\"\n",
        "initializing some iguanas in florida at time 0\n",
        "\"\"\"\n",
        "\n",
        "florida[33,11] = 15000\n",
        "florida[32,11] = 15000\n",
        "florida[31,11] = 15000\n",
        "florida[33,10] = 15000\n",
        "florida[32,10] = 15000\n",
        "florida[31,10] = 15000\n",
        "florida[32,9] = 15000\n",
        "florida[31,9] = 15000\n",
        "florida[32,8] = 15000\n",
        "florida[32,7] = 15000\n",
        "florida[32,6] = 15000\n",
        "florida[31,9] = 15000"
      ],
      "metadata": {
        "id": "R5qVBVyc1T8o"
      },
      "execution_count": 5,
      "outputs": []
    },
    {
      "cell_type": "code",
      "source": [
        "# Basic control strategy, cellular automaton\n",
        "import matplotlib as mpl\n",
        "import matplotlib.pyplot as plt\n",
        "import random\n",
        "import numpy as np\n",
        "from math import exp\n",
        "from math import ceil\n",
        "import copy\n",
        "from IPython.display import clear_output\n",
        "import decimal\n",
        "\n",
        "\"\"\"\n",
        "A function that models the population growth of Iguanas in a cellular\n",
        "automaton using the Bayesian State-Space Model.\n",
        "Arguments:\n",
        "Current- Cellular automaton which contains the initialized system\n",
        "growthRate - (constant float) the growth rate of the population\n",
        "capacity - (int) the carrying capacity of the Iguana population\n",
        "steps - (constant int) total number of steps wished to be used to find the population\n",
        "controlRate - (constant float) the rate at which iguanas are removed from the population via external control\n",
        "returns the final array containing the cellular automaton at all steps\n",
        "\"\"\"\n",
        "def BSSModelLoopBase(Current, growthRate, capacity, steps, controlRate):\n",
        "\n",
        "  # makes a deep copy to not alter the initialization\n",
        "  initial = copy.deepcopy(Current)\n",
        "  size = initial.shape\n",
        "  rows = size[0]\n",
        "  cols = size[1]\n",
        "  history = np.zeros((steps+1,rows,cols))\n",
        "  history[0] = initial\n",
        "  for i in range(steps):\n",
        "    for j in range(rows):\n",
        "      for k in range(cols):\n",
        "        # updates population based on our state space model\n",
        "        initial[j,k]= initial[j,k] + (growthRate*initial[j,k]*(1-(initial[j,k]/(capacity*((j+35)/70))))) - ((controlRate/12)*initial[j,k])\n",
        "    for j in range(rows):\n",
        "      for k in range(cols):\n",
        "        denominator_spt = np.exp((-(1/(0.2*(capacity*((j+35)/70)))))*(initial[j,k]-((capacity*((j+35)/70))/2)))\n",
        "        odds = 1/(1+denominator_spt)\n",
        "        # need at least 2 iguanas to spread\n",
        "        if initial[j,k] >= 2:\n",
        "          # checking edge cases for spread\n",
        "          if k+1<cols:\n",
        "            if initial[j,k+1] == 0:\n",
        "              if random.random() < odds:\n",
        "                # picks a number of iguanas to spread\n",
        "                initial[j,k+1] = min(ceil((random.random())*(1/100)*initial[j,k]),initial[j,k]-1)\n",
        "                initial[j,k]= initial[j,k] - initial[j,k+1]\n",
        "          if j+1<rows:\n",
        "            if initial[j+1,k] == 0:\n",
        "              if random.random() < odds:\n",
        "                # picks a number of iguanas to spread\n",
        "                initial[j+1,k] = min(ceil((random.random())*(1/100)*initial[j,k]),initial[j,k]-1)\n",
        "                initial[j,k]= initial[j,k] - initial[j+1,k]\n",
        "          if k-1>=0:\n",
        "            if initial[j,k-1] == 0:\n",
        "              if random.random() < odds:\n",
        "                # picks a number of iguanas to spread\n",
        "                initial[j,k-1] = min(ceil((random.random())*(1/100)*initial[j,k]),initial[j,k]-1)\n",
        "                initial[j,k]= initial[j,k] - initial[j,k-1]\n",
        "          if j-1>=0:\n",
        "            if initial[j-1,k] == 0:\n",
        "              if random.random() < odds:\n",
        "                # picks a number of iguanas to spread\n",
        "                initial[j-1,k] = min(ceil((random.random())*(1/100)*initial[j,k]),initial[j,k]-1)\n",
        "                initial[j,k]= initial[j,k] - initial[j-1,k]\n",
        "          if j+1<rows and k+1<cols:\n",
        "            if initial[j+1,k+1] == 0:\n",
        "              if random.random() < odds:\n",
        "                # picks a number of iguanas to spread\n",
        "                initial[j+1,k+1] = min(ceil((random.random())*(1/100)*initial[j,k]),initial[j,k]-1)\n",
        "                initial[j,k]= initial[j,k] - initial[j+1,k+1]\n",
        "          if j-1>=0 and k+1<cols:\n",
        "            if initial[j-1,k+1] == 0:\n",
        "              if random.random() < odds:\n",
        "                # picks a number of iguanas to spread\n",
        "                initial[j-1,k+1] = min(ceil((random.random())*(1/100)*initial[j,k]),initial[j,k]-1)\n",
        "                initial[j,k]= initial[j,k] - initial[j-1,k+1]\n",
        "          if j+1<cols and k-1>=0:\n",
        "            if initial[j+1,k-1] == 0:\n",
        "              if random.random() < odds:\n",
        "                # picks a number of iguanas to spread\n",
        "                initial[j+1,k-1] = min(ceil((random.random())*(1/100)*initial[j,k]),initial[j,k]-1)\n",
        "                initial[j,k]= initial[j,k] - initial[j+1,k-1]\n",
        "          if j-1>=0 and k-1>=0:\n",
        "            if initial[j-1,k-1] == 0:\n",
        "              if random.random() < odds:\n",
        "                # picks a number of iguanas to spread\n",
        "                initial[j-1,k-1] = min(ceil((random.random())*(1/100)*initial[j,k]),initial[j,k]-1)\n",
        "                initial[j,k]= initial[j,k] - initial[j-1,k-1]\n",
        "    history[i+1] = initial\n",
        "    displayAutomaton(i, history)\n",
        "    print(\"On month %r (Year %r)\" % (i, floor(i/12)))\n",
        "  return history\n",
        "\n",
        "\"\"\"\n",
        "A function to graph the population in a given cell versus time\n",
        "\"\"\"\n",
        "def graphCell(history,row,col):\n",
        "  timeList =[]\n",
        "  stepList = []\n",
        "  for i in range(history.shape[0]):\n",
        "    timeList.append(i);\n",
        "  for i in range(history.shape[0]):\n",
        "    stepList.append(history[i,row,col])\n",
        "  plt.plot(timeList, stepList)\n",
        "  plt.xlabel(\"Months\")\n",
        "  plt.ylabel(\"Population\")\n",
        "  plt.title(\"Populations versus Time\")\n",
        "  plt.show()\n",
        "\"\"\"\n",
        "A function to display the cellular automaton at a certain iteration\n",
        "\"\"\"\n",
        "def displayAutomaton(step, array):\n",
        "  # makes a deep copy to prevent altering the original\n",
        "  history = copy.deepcopy(array)\n",
        "  # finds the maximum value \n",
        "  max = np.amax(history[step,:,:])\n",
        "  # scales to fit in the range [0,255]\n",
        "  divide = max/255\n",
        "  history[step,:,:] = history[step,:,:]/divide\n",
        "  # rounds up to integers\n",
        "  for i in range(history.shape[1]):\n",
        "    for j in range(history.shape[2]):\n",
        "      history[steps,i,j] = ceil(history[steps,i,j])\n",
        "  # turns array into image\n",
        "  to_image = history[step,:,:].astype(np.uint8)\n",
        "  # clears previous image\n",
        "  clear_output(wait=True)\n",
        "  plt.figure()\n",
        "  plt.imshow(im.fromarray(to_image))\n",
        "  # makes the colorbar show the actual population values\n",
        "  norm = mpl.colors.Normalize(vmin=0, vmax=max) \n",
        "  cbar = plt.colorbar(mpl.cm.ScalarMappable(norm=norm))\n",
        "  plt.show()\n"
      ],
      "metadata": {
        "id": "XNAKVhgHOIH3"
      },
      "execution_count": 6,
      "outputs": []
    },
    {
      "cell_type": "code",
      "source": [
        "#Moderate control strategy\n",
        "import matplotlib as mpl\n",
        "import matplotlib.pyplot as plt\n",
        "import random\n",
        "import numpy as np\n",
        "from math import exp\n",
        "from math import ceil\n",
        "import copy\n",
        "from IPython.display import clear_output\n",
        "import decimal\n",
        "\n",
        "\"\"\"\n",
        "A function that models the population growth of Iguanas in a cellular\n",
        "automaton using the Bayesian State-Space Model.\n",
        "Arguments:\n",
        "Current- Cellular automaton which contains the initialized system\n",
        "growthRate - (constant float) the growth rate of the population\n",
        "capacity - (int) the carrying capacity of the Iguana population\n",
        "steps - (constant int) total number of steps wished to be used to find the population\n",
        "controlRate - (constant float) the rate at which iguanas are removed from the population via external control\n",
        "returns the final array containing the cellular automaton at all steps\n",
        "\"\"\"\n",
        "\n",
        "def BSSModelLoop(Current, growthRate, capacity, steps, controlRate):\n",
        "\n",
        "  # makes a deep copy to not alter the initialization\n",
        "  initial = copy.deepcopy(Current)\n",
        "  size = initial.shape\n",
        "  rows = size[0]\n",
        "  cols = size[1]\n",
        "  history = np.zeros((steps+1,rows,cols))\n",
        "  history[0] = initial\n",
        "  tracker = np.zeros((rows,cols))\n",
        "  for i in range(steps):\n",
        "    for j in range(rows):\n",
        "      for k in range(cols):\n",
        "        # checks if we have reached the threshold for this cell, adds 12 months of aggressive control if so\n",
        "        if initial[j,k] >= ((capacity*((j+35)/70))/5):\n",
        "          tracker[j,k] = tracker[j,k] + 12\n",
        "        # if we are implementing aggressive control..\n",
        "        if tracker[j,k] >= 0:\n",
        "          # much stronger control strategy\n",
        "          initial[j,k]= initial[j,k] + (growthRate*initial[j,k]*(1-(initial[j,k]/(capacity*((j+35)/70))))) - (controlRate*initial[j,k])\n",
        "          tracker[j,k] = tracker[j,k] - 1\n",
        "        # otherwise, regular strategy\n",
        "        else:\n",
        "          initial[j,k]= initial[j,k] + (growthRate*initial[j,k]*(1-(initial[j,k]/(capacity*((j+35)/70))))) - ((controlRate/12)*initial[j,k])\n",
        "    for j in range(rows):\n",
        "      for k in range(cols):\n",
        "        denominator_spt = np.exp((-(1/(0.2*(capacity*((j+35)/70)))))*(initial[j,k]-((capacity*((j+35)/70))/2)))\n",
        "        odds = 1/(1+denominator_spt)\n",
        "        # need at least 2 iguanas to spread\n",
        "        if initial[j,k] >= 2:\n",
        "          # checking edge cases\n",
        "          if k+1<cols:\n",
        "            if initial[j,k+1] == 0:\n",
        "                # picks a number of iguanas to spread\n",
        "              if random.random() < odds:\n",
        "                initial[j,k+1] = min(ceil((random.random())*(1/100)*initial[j,k]),initial[j,k]-1)\n",
        "                initial[j,k]= initial[j,k] - initial[j,k+1]\n",
        "          if j+1<rows:\n",
        "            if initial[j+1,k] == 0:\n",
        "                # picks a number of iguanas to spread\n",
        "              if random.random() < odds:\n",
        "                initial[j+1,k] = min(ceil((random.random())*(1/100)*initial[j,k]),initial[j,k]-1)\n",
        "                initial[j,k]= initial[j,k] - initial[j+1,k]\n",
        "          if k-1>=0:\n",
        "            if initial[j,k-1] == 0:\n",
        "                # picks a number of iguanas to spread\n",
        "              if random.random() < odds:\n",
        "                initial[j,k-1] = min(ceil((random.random())*(1/100)*initial[j,k]),initial[j,k]-1)\n",
        "                initial[j,k]= initial[j,k] - initial[j,k-1]\n",
        "          if j-1>=0:\n",
        "            if initial[j-1,k] == 0:\n",
        "                # picks a number of iguanas to spread\n",
        "              if random.random() < odds:\n",
        "                initial[j-1,k] = min(ceil((random.random())*(1/100)*initial[j,k]),initial[j,k]-1)\n",
        "                initial[j,k]= initial[j,k] - initial[j-1,k]\n",
        "          if j+1<rows and k+1<cols:\n",
        "            if initial[j+1,k+1] == 0:\n",
        "                # picks a number of iguanas to spread\n",
        "              if random.random() < odds:\n",
        "                initial[j+1,k+1] = min(ceil((random.random())*(1/100)*initial[j,k]),initial[j,k]-1)\n",
        "                initial[j,k]= initial[j,k] - initial[j+1,k+1]\n",
        "          if j-1>=0 and k+1<cols:\n",
        "            if initial[j-1,k+1] == 0:\n",
        "                # picks a number of iguanas to spread\n",
        "              if random.random() < odds:\n",
        "                initial[j-1,k+1] = min(ceil((random.random())*(1/100)*initial[j,k]),initial[j,k]-1)\n",
        "                initial[j,k]= initial[j,k] - initial[j-1,k+1]\n",
        "          if j+1<cols and k-1>=0:\n",
        "            if initial[j+1,k-1] == 0:\n",
        "                # picks a number of iguanas to spread\n",
        "              if random.random() < odds:\n",
        "                initial[j+1,k-1] = min(ceil((random.random())*(1/100)*initial[j,k]),initial[j,k]-1)\n",
        "                initial[j,k]= initial[j,k] - initial[j+1,k-1]\n",
        "          if j-1>=0 and k-1>=0:\n",
        "            if initial[j-1,k-1] == 0:\n",
        "                # picks a number of iguanas to spread\n",
        "              if random.random() < odds:\n",
        "                initial[j-1,k-1] = min(ceil((random.random())*(1/100)*initial[j,k]),initial[j,k]-1)\n",
        "                initial[j,k]= initial[j,k] - initial[j-1,k-1]\n",
        "    history[i+1] = initial\n",
        "    displayAutomaton(i, history)\n",
        "    print(\"On month %r (Year %r)\" % (i, floor(i/12)))\n",
        "  return history\n",
        "\n",
        "\"\"\"\n",
        "A function to graph the population in a given cell versus time\n",
        "\"\"\"\n",
        "def graphCell(history,row,col):\n",
        "  timeList =[]\n",
        "  stepList = []\n",
        "  for i in range(history.shape[0]):\n",
        "    timeList.append(i);\n",
        "  for i in range(history.shape[0]):\n",
        "    stepList.append(history[i,row,col])\n",
        "  plt.plot(timeList, stepList)\n",
        "  plt.xlabel(\"Months\")\n",
        "  plt.ylabel(\"Population\")\n",
        "  plt.title(\"Populations versus Time\")\n",
        "  plt.show()\n",
        "\"\"\"\n",
        "A function to display the cellular automaton at a certain iteration -- still working on this implementation\n",
        "\"\"\"\n",
        "def displayAutomaton(step, array):\n",
        "  # makes a deep copy to prevent altering the original\n",
        "  history = copy.deepcopy(array)\n",
        "  # finds the maximum value \n",
        "  max = np.amax(history[step,:,:])\n",
        "  # scales to fit in the range [0,255]\n",
        "  divide = max/255\n",
        "  history[step,:,:] = history[step,:,:]/divide\n",
        "  # rounds up to integers\n",
        "  for i in range(history.shape[1]):\n",
        "    for j in range(history.shape[2]):\n",
        "      history[steps,i,j] = ceil(history[steps,i,j])\n",
        "  # turns array into image\n",
        "  to_image = history[step,:,:].astype(np.uint8)\n",
        "  # clears previous image\n",
        "  clear_output(wait=True)\n",
        "  plt.figure()\n",
        "  plt.imshow(im.fromarray(to_image))\n",
        "  # makes the colorbar show the actual population values\n",
        "  norm = mpl.colors.Normalize(vmin=0, vmax=max) \n",
        "  cbar = plt.colorbar(mpl.cm.ScalarMappable(norm=norm))\n",
        "  plt.show()\n"
      ],
      "metadata": {
        "id": "lxd8cq95FeE-"
      },
      "execution_count": 7,
      "outputs": []
    },
    {
      "cell_type": "code",
      "source": [
        "#Trying to see if I can make a cellular automaton here\n",
        "import matplotlib as mpl\n",
        "import matplotlib.pyplot as plt\n",
        "import random\n",
        "import numpy as np\n",
        "from math import exp\n",
        "from math import ceil\n",
        "import copy\n",
        "from IPython.display import clear_output\n",
        "import decimal\n",
        "\n",
        "\"\"\"\n",
        "A function that models the population growth of Iguanas in a cellular\n",
        "automaton using the Bayesian State-Space Model.\n",
        "Arguments:\n",
        "Current- Cellular automaton which contains the initialized system\n",
        "growthRate - (constant float) the growth rate of the population\n",
        "capacity - (int) the carrying capacity of the Iguana population\n",
        "steps - (constant int) total number of steps wished to be used to find the population\n",
        "controlRate - (constant float) the rate at which iguanas are removed from the population via external control\n",
        "returns the final array containing the cellular automaton at all steps\n",
        "\"\"\"\n",
        "\n",
        "def BSSModelLoop2(Current, growthRate, capacity, steps, controlRate):\n",
        "\n",
        "  # makes a deep copy to not alter the initialization\n",
        "  initial = copy.deepcopy(Current)\n",
        "  size = initial.shape\n",
        "  rows = size[0]\n",
        "  cols = size[1]\n",
        "  history = np.zeros((steps+1,rows,cols))\n",
        "  history[0] = initial\n",
        "  tracker = np.zeros((rows,cols))\n",
        "  for i in range(steps):\n",
        "    for j in range(rows):\n",
        "      for k in range(cols):\n",
        "        # checks if we have reached the threshold for this cell, adds 12 months of aggressive control if so\n",
        "        if initial[j,k] >= ((capacity*((j+35)/70))/50):\n",
        "          tracker[j,k] = tracker[j,k] + 12\n",
        "        # if we are implementing aggressive control..\n",
        "        if tracker[j,k] >= 0:\n",
        "          # much stronger control strategy\n",
        "          initial[j,k]= initial[j,k] + (growthRate*initial[j,k]*(1-(initial[j,k]/(capacity*((j+35)/70))))) - (controlRate*initial[j,k])\n",
        "          tracker[j,k] = tracker[j,k] - 1\n",
        "        # otherwise, regular strategy\n",
        "        else:\n",
        "          initial[j,k]= initial[j,k] + (growthRate*initial[j,k]*(1-(initial[j,k]/(capacity*((j+35)/70))))) - ((controlRate/12)*initial[j,k])\n",
        "    for j in range(rows):\n",
        "      for k in range(cols):\n",
        "        denominator_spt = np.exp((-(1/(0.2*(capacity*((j+35)/70)))))*(initial[j,k]-((capacity*((j+35)/70))/2)))\n",
        "        odds = 1/(1+denominator_spt)\n",
        "        # need at least 2 iguanas to spread\n",
        "        if initial[j,k] >= 2:\n",
        "          # checking edge cases\n",
        "          if k+1<cols:\n",
        "            if initial[j,k+1] == 0:\n",
        "                # picks a number of iguanas to spread\n",
        "              if random.random() < odds:\n",
        "                initial[j,k+1] = min(ceil((random.random())*(1/100)*initial[j,k]),initial[j,k]-1)\n",
        "                initial[j,k]= initial[j,k] - initial[j,k+1]\n",
        "          if j+1<rows:\n",
        "            if initial[j+1,k] == 0:\n",
        "                # picks a number of iguanas to spread\n",
        "              if random.random() < odds:\n",
        "                initial[j+1,k] = min(ceil((random.random())*(1/100)*initial[j,k]),initial[j,k]-1)\n",
        "                initial[j,k]= initial[j,k] - initial[j+1,k]\n",
        "          if k-1>=0:\n",
        "            if initial[j,k-1] == 0:\n",
        "                # picks a number of iguanas to spread\n",
        "              if random.random() < odds:\n",
        "                initial[j,k-1] = min(ceil((random.random())*(1/100)*initial[j,k]),initial[j,k]-1)\n",
        "                initial[j,k]= initial[j,k] - initial[j,k-1]\n",
        "          if j-1>=0:\n",
        "            if initial[j-1,k] == 0:\n",
        "                # picks a number of iguanas to spread\n",
        "              if random.random() < odds:\n",
        "                initial[j-1,k] = min(ceil((random.random())*(1/100)*initial[j,k]),initial[j,k]-1)\n",
        "                initial[j,k]= initial[j,k] - initial[j-1,k]\n",
        "          if j+1<rows and k+1<cols:\n",
        "            if initial[j+1,k+1] == 0:\n",
        "                # picks a number of iguanas to spread\n",
        "              if random.random() < odds:\n",
        "                initial[j+1,k+1] = min(ceil((random.random())*(1/100)*initial[j,k]),initial[j,k]-1)\n",
        "                initial[j,k]= initial[j,k] - initial[j+1,k+1]\n",
        "          if j-1>=0 and k+1<cols:\n",
        "            if initial[j-1,k+1] == 0:\n",
        "                # picks a number of iguanas to spread\n",
        "              if random.random() < odds:\n",
        "                initial[j-1,k+1] = min(ceil((random.random())*(1/100)*initial[j,k]),initial[j,k]-1)\n",
        "                initial[j,k]= initial[j,k] - initial[j-1,k+1]\n",
        "          if j+1<cols and k-1>=0:\n",
        "            if initial[j+1,k-1] == 0:\n",
        "                # picks a number of iguanas to spread\n",
        "              if random.random() < odds:\n",
        "                initial[j+1,k-1] = min(ceil((random.random())*(1/100)*initial[j,k]),initial[j,k]-1)\n",
        "                initial[j,k]= initial[j,k] - initial[j+1,k-1]\n",
        "          if j-1>=0 and k-1>=0:\n",
        "            if initial[j-1,k-1] == 0:\n",
        "                # picks a number of iguanas to spread\n",
        "              if random.random() < odds:\n",
        "                initial[j-1,k-1] = min(ceil((random.random())*(1/100)*initial[j,k]),initial[j,k]-1)\n",
        "                initial[j,k]= initial[j,k] - initial[j-1,k-1]\n",
        "    history[i+1] = initial\n",
        "    displayAutomaton(i, history)\n",
        "    print(\"On month %r (Year %r)\" % (i, floor(i/12)))\n",
        "  return history\n",
        "\n",
        "\"\"\"\n",
        "A function to graph the population in a given cell versus time\n",
        "\"\"\"\n",
        "def graphCell(history,row,col):\n",
        "  timeList =[]\n",
        "  stepList = []\n",
        "  for i in range(history.shape[0]):\n",
        "    timeList.append(i);\n",
        "  for i in range(history.shape[0]):\n",
        "    stepList.append(history[i,row,col])\n",
        "  plt.plot(timeList, stepList)\n",
        "  plt.xlabel(\"Months\")\n",
        "  plt.ylabel(\"Population\")\n",
        "  plt.title(\"Populations versus Time\")\n",
        "  plt.show()\n",
        "\"\"\"\n",
        "A function to display the cellular automaton at a certain iteration -- still working on this implementation\n",
        "\"\"\"\n",
        "def displayAutomaton(step, array):\n",
        "  # makes a deep copy to prevent altering the original\n",
        "  history = copy.deepcopy(array)\n",
        "  # finds the maximum value \n",
        "  max = np.amax(history[step,:,:])\n",
        "  # scales to fit in the range [0,255]\n",
        "  divide = max/255\n",
        "  history[step,:,:] = history[step,:,:]/divide\n",
        "  # rounds up to integers\n",
        "  for i in range(history.shape[1]):\n",
        "    for j in range(history.shape[2]):\n",
        "      history[steps,i,j] = ceil(history[steps,i,j])\n",
        "  # turns array into image\n",
        "  to_image = history[step,:,:].astype(np.uint8)\n",
        "  # clears previous image\n",
        "  clear_output(wait=True)\n",
        "  plt.figure()\n",
        "  plt.imshow(im.fromarray(to_image))\n",
        "  # makes the colorbar show the actual population values\n",
        "  norm = mpl.colors.Normalize(vmin=0, vmax=max) \n",
        "  cbar = plt.colorbar(mpl.cm.ScalarMappable(norm=norm))\n",
        "  plt.show()\n"
      ],
      "metadata": {
        "id": "8JoGWuhkP245"
      },
      "execution_count": 8,
      "outputs": []
    },
    {
      "cell_type": "code",
      "source": [
        "from math import floor\n",
        "from PIL import Image as im\n",
        "from google.colab.patches import cv2_imshow\n",
        "steps = 600\n",
        "historybase = BSSModelLoopBase(florida,growthRate,capacity,steps,controlRate)"
      ],
      "metadata": {
        "colab": {
          "base_uri": "https://localhost:8080/",
          "height": 283
        },
        "id": "2yh0xyTnOSGN",
        "outputId": "80d070f1-ff83-4a7d-ed3d-11b9657442f1"
      },
      "execution_count": 9,
      "outputs": [
        {
          "output_type": "display_data",
          "data": {
            "text/plain": [
              "<Figure size 432x288 with 2 Axes>"
            ],
            "image/png": "[encoded data removed]"
          },
          "metadata": {
            "needs_background": "light"
          }
        },
        {
          "output_type": "stream",
          "name": "stdout",
          "text": [
            "On month 599 (Year 49)\n"
          ]
        }
      ]
    },
    {
      "cell_type": "code",
      "source": [
        "graphCell(historybase, 30, 8)"
      ],
      "metadata": {
        "colab": {
          "base_uri": "https://localhost:8080/",
          "height": 295
        },
        "id": "QX2x50g1X4FG",
        "outputId": "db5b439b-9e01-4c3c-b227-4803fac37317"
      },
      "execution_count": 10,
      "outputs": [
        {
          "output_type": "display_data",
          "data": {
            "text/plain": [
              "<Figure size 432x288 with 1 Axes>"
            ],
            "image/png": "[encoded data removed]"
          },
          "metadata": {
            "needs_background": "light"
          }
        }
      ]
    },
    {
      "cell_type": "code",
      "source": [
        "from math import floor\n",
        "from PIL import Image as im\n",
        "from google.colab.patches import cv2_imshow\n",
        "steps = 600\n",
        "history = BSSModelLoop(florida,growthRate,capacity,steps,controlRate)"
      ],
      "metadata": {
        "colab": {
          "base_uri": "https://localhost:8080/",
          "height": 283
        },
        "id": "INZr_62NuHCu",
        "outputId": "c81bdd6e-f62e-4e73-a290-9a481f5f3bf0"
      },
      "execution_count": 11,
      "outputs": [
        {
          "output_type": "display_data",
          "data": {
            "text/plain": [
              "<Figure size 432x288 with 2 Axes>"
            ],
            "image/png": "[encoded data removed]"
          },
          "metadata": {
            "needs_background": "light"
          }
        },
        {
          "output_type": "stream",
          "name": "stdout",
          "text": [
            "On month 599 (Year 49)\n"
          ]
        }
      ]
    },
    {
      "cell_type": "code",
      "source": [
        "graphCell(history, 30, 8)"
      ],
      "metadata": {
        "id": "6_K7u_UhX8Jl",
        "colab": {
          "base_uri": "https://localhost:8080/",
          "height": 295
        },
        "outputId": "4d2ffda0-8a63-44ac-8361-a49f6b214334"
      },
      "execution_count": 12,
      "outputs": [
        {
          "output_type": "display_data",
          "data": {
            "text/plain": [
              "<Figure size 432x288 with 1 Axes>"
            ],
            "image/png": "[encoded data removed]"
          },
          "metadata": {
            "needs_background": "light"
          }
        }
      ]
    },
    {
      "cell_type": "code",
      "source": [
        "from math import floor\n",
        "from PIL import Image as im\n",
        "from google.colab.patches import cv2_imshow\n",
        "steps = 600\n",
        "history2 = BSSModelLoop2(florida,growthRate,capacity,steps,controlRate)"
      ],
      "metadata": {
        "id": "3dhZsw-vP60W",
        "colab": {
          "base_uri": "https://localhost:8080/",
          "height": 283
        },
        "outputId": "9a196742-fa73-420f-cddd-688b7c9ac054"
      },
      "execution_count": 13,
      "outputs": [
        {
          "output_type": "display_data",
          "data": {
            "text/plain": [
              "<Figure size 432x288 with 2 Axes>"
            ],
            "image/png": "[encoded data removed]"
          },
          "metadata": {
            "needs_background": "light"
          }
        },
        {
          "output_type": "stream",
          "name": "stdout",
          "text": [
            "On month 599 (Year 49)\n"
          ]
        }
      ]
    },
    {
      "cell_type": "code",
      "source": [
        "graphCell(history2, 30, 8)"
      ],
      "metadata": {
        "colab": {
          "base_uri": "https://localhost:8080/",
          "height": 295
        },
        "id": "83LASiOMRajO",
        "outputId": "37a6d7b9-4c50-4d8a-ebed-7c7c9456f680"
      },
      "execution_count": 14,
      "outputs": [
        {
          "output_type": "display_data",
          "data": {
            "text/plain": [
              "<Figure size 432x288 with 1 Axes>"
            ],
            "image/png": "[encoded data removed]"
          },
          "metadata": {
            "needs_background": "light"
          }
        }
      ]
    }
  ]
}